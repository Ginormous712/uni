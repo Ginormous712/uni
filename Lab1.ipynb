{
 "cells": [
  {
   "metadata": {},
   "cell_type": "markdown",
   "source": "Заголовок першого рівня",
   "id": "b00adc27147f2cb8"
  },
  {
   "metadata": {},
   "cell_type": "markdown",
   "source": "# Норвегія",
   "id": "decd5fd611a780b"
  },
  {
   "metadata": {},
   "cell_type": "markdown",
   "source": " Заголовок другого рівня + основні факти",
   "id": "fa0aad48d2535695"
  },
  {
   "metadata": {},
   "cell_type": "markdown",
   "source": [
    "## Основні факти про Норвегію\n",
    "- **Столиця:** Осло\n",
    "- **Площа:** 385 207 км²\n",
    "- **Населення:** приблизно 5,4 мільйони\n",
    "- **Державний устрій:** Конституційна монархія\n",
    "- **Офіційні мови:** Норвезька (букмол і нюнорськ)"
   ],
   "id": "761dcb5357f3fe8d"
  },
  {
   "metadata": {},
   "cell_type": "markdown",
   "source": "Використання кольору та форматування через HTML",
   "id": "3ece50ed34db2d4a"
  },
  {
   "metadata": {},
   "cell_type": "markdown",
   "source": "<p style=\"color:blue; font-size:18px;\">Норвегія славиться своїми фіордами, північним сяйвом та високим рівнем життя.</p>",
   "id": "25bce66d34cc4d9b"
  },
  {
   "metadata": {},
   "cell_type": "markdown",
   "source": "Вбудована таблиця",
   "id": "45ce16a4dc8eb6e8"
  },
  {
   "metadata": {},
   "cell_type": "markdown",
   "source": [
    "| Відомі особистості | Досягнення |\n",
    "|---------------------|-------------|\n",
    "| Роальд Амундсен | перший досяг Південного полюсу |\n",
    "| Едвард Мунк | художник, автор \"Крику\" |\n",
    "| Генрік Ібсен | драматург, \"Батько сучасної драми\" |"
   ],
   "id": "da9fff807befbf1"
  },
  {
   "metadata": {},
   "cell_type": "markdown",
   "source": "Вкладені списки",
   "id": "5a2fe09501da3ac1"
  },
  {
   "metadata": {},
   "cell_type": "markdown",
   "source": [
    "### Культурні пам'ятки та природа\n",
    "- Фіорди\n",
    "  - Гейрангер-фіорд\n",
    "  - Согне-фіорд\n",
    "- Лофотенські острови\n",
    "- Північне сяйво\n",
    "- Брюген у Бергені (внесений до спадщини ЮНЕСКО)"
   ],
   "id": "e3a208ec8a0891ea"
  },
  {
   "metadata": {},
   "cell_type": "markdown",
   "source": "Гіперпосилання",
   "id": "34f657c408fd4937"
  },
  {
   "metadata": {},
   "cell_type": "markdown",
   "source": "[Офіційний туристичний сайт Норвегії](https://www.visitnorway.com/)",
   "id": "382b651b71af344a"
  },
  {
   "metadata": {},
   "cell_type": "markdown",
   "source": "Картинка за посиланням",
   "id": "59c87e02bd73bda2"
  },
  {
   "metadata": {},
   "cell_type": "markdown",
   "source": "![Фіорди Норвегії](https://upload.wikimedia.org/wikipedia/commons/thumb/d/d9/Flag_of_Norway.svg/1280px-Flag_of_Norway.svg.png)",
   "id": "790357ff4ad70a82"
  },
  {
   "metadata": {},
   "cell_type": "markdown",
   "source": "Вбудована картинка (у вигляді SVG прапора)",
   "id": "87fefbc9580cc69"
  },
  {
   "metadata": {
    "ExecuteTime": {
     "end_time": "2025-04-27T19:32:04.552899Z",
     "start_time": "2025-04-27T19:32:04.543383Z"
    }
   },
   "cell_type": "code",
   "source": [
    "%%HTML\n",
    "<svg width=\"180\" height=\"120\">\n",
    "  <rect width=\"180\" height=\"120\" fill=\"#BA0C2F\"/>\n",
    "  <rect x=\"50\" width=\"20\" height=\"120\" fill=\"white\"/>\n",
    "  <rect y=\"50\" width=\"180\" height=\"20\" fill=\"white\"/>\n",
    "  <rect x=\"55\" width=\"10\" height=\"120\" fill=\"#00205B\"/>\n",
    "  <rect y=\"55\" width=\"180\" height=\"10\" fill=\"#00205B\"/>\n",
    "</svg>"
   ],
   "id": "9b389f92661d4437",
   "outputs": [
    {
     "data": {
      "text/plain": [
       "<IPython.core.display.HTML object>"
      ],
      "text/html": [
       "<svg width=\"180\" height=\"120\">\n",
       "  <rect width=\"180\" height=\"120\" fill=\"#BA0C2F\"/>\n",
       "  <rect x=\"50\" width=\"20\" height=\"120\" fill=\"white\"/>\n",
       "  <rect y=\"50\" width=\"180\" height=\"20\" fill=\"white\"/>\n",
       "  <rect x=\"55\" width=\"10\" height=\"120\" fill=\"#00205B\"/>\n",
       "  <rect y=\"55\" width=\"180\" height=\"10\" fill=\"#00205B\"/>\n",
       "</svg>\n"
      ]
     },
     "metadata": {},
     "output_type": "display_data"
    }
   ],
   "execution_count": 3
  },
  {
   "metadata": {},
   "cell_type": "markdown",
   "source": "Завдання варіанта 10: Перевірка, чи число є сумою двох квадратів",
   "id": "70998e3ff12db3bc"
  },
  {
   "metadata": {
    "ExecuteTime": {
     "end_time": "2025-04-27T19:32:48.880755Z",
     "start_time": "2025-04-27T19:32:48.870757Z"
    }
   },
   "cell_type": "code",
   "source": [
    "def task_10():\n",
    "    try:\n",
    "        N = int(input(\"Введіть натуральне число N: \"))\n",
    "        if N <= 0:\n",
    "            print(\"Число має бути додатнім натуральним.\")\n",
    "            return\n",
    "        found = False\n",
    "        for a in range(int(N**0.5) + 1):\n",
    "            b_squared = N - a*a\n",
    "            if b_squared >= 0 and int(b_squared**0.5) == (b_squared**0.5):\n",
    "                b = int(b_squared**0.5)\n",
    "                print(f\"{a}^2 + {b}^2 = {N}\")\n",
    "                found = True\n",
    "                break\n",
    "        if not found:\n",
    "            print(f\"Число {N} не можна представити квадратами цілих чисел.\")\n",
    "    except ValueError:\n",
    "        print(\"Некоректне введення! Потрібно ввести ціле число.\")"
   ],
   "id": "a0101c97e46613bb",
   "outputs": [],
   "execution_count": 4
  },
  {
   "metadata": {},
   "cell_type": "markdown",
   "source": "Тест число 45 і 21",
   "id": "378c662eaf4629a3"
  },
  {
   "metadata": {
    "ExecuteTime": {
     "end_time": "2025-04-27T19:33:44.065029Z",
     "start_time": "2025-04-27T19:33:40.152643Z"
    }
   },
   "cell_type": "code",
   "source": "task_10()",
   "id": "8adf86bfdb941422",
   "outputs": [
    {
     "name": "stdout",
     "output_type": "stream",
     "text": [
      "3^2 + 6^2 = 45\n"
     ]
    }
   ],
   "execution_count": 5
  },
  {
   "metadata": {
    "ExecuteTime": {
     "end_time": "2025-04-27T19:34:00.761279Z",
     "start_time": "2025-04-27T19:33:57.609549Z"
    }
   },
   "cell_type": "code",
   "source": "task_10()",
   "id": "87cd47cad68cf38",
   "outputs": [
    {
     "name": "stdout",
     "output_type": "stream",
     "text": [
      "Число 21 не можна представити квадратами цілих чисел.\n"
     ]
    }
   ],
   "execution_count": 6
  }
 ],
 "metadata": {
  "kernelspec": {
   "display_name": "Python 3",
   "language": "python",
   "name": "python3"
  },
  "language_info": {
   "codemirror_mode": {
    "name": "ipython",
    "version": 2
   },
   "file_extension": ".py",
   "mimetype": "text/x-python",
   "name": "python",
   "nbconvert_exporter": "python",
   "pygments_lexer": "ipython2",
   "version": "2.7.6"
  }
 },
 "nbformat": 4,
 "nbformat_minor": 5
}
