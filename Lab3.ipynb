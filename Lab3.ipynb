{
 "cells": [
  {
   "metadata": {
    "ExecuteTime": {
     "end_time": "2025-04-27T20:49:04.759443Z",
     "start_time": "2025-04-27T20:48:37.101296Z"
    }
   },
   "cell_type": "code",
   "source": [
    "import kagglehub\n",
    "\n",
    "# Download latest version\n",
    "path = kagglehub.dataset_download(\"kaggle/us-baby-names\")\n",
    "\n",
    "print(\"Path to dataset files:\", path)"
   ],
   "id": "da5c13620ad18091",
   "outputs": [
    {
     "name": "stdout",
     "output_type": "stream",
     "text": [
      "Downloading from https://www.kaggle.com/api/v1/datasets/download/kaggle/us-baby-names?dataset_version_number=2...\n"
     ]
    },
    {
     "name": "stderr",
     "output_type": "stream",
     "text": [
      "100%|██████████| 173M/173M [00:22<00:00, 7.92MB/s] "
     ]
    },
    {
     "name": "stdout",
     "output_type": "stream",
     "text": [
      "Extracting files...\n"
     ]
    },
    {
     "name": "stderr",
     "output_type": "stream",
     "text": [
      "\n"
     ]
    },
    {
     "name": "stdout",
     "output_type": "stream",
     "text": [
      "Path to dataset files: C:\\Users\\romav\\.cache\\kagglehub\\datasets\\kaggle\\us-baby-names\\versions\\2\n"
     ]
    }
   ],
   "execution_count": 1
  },
  {
   "metadata": {},
   "cell_type": "markdown",
   "source": "Вправи: 2, 4, 6, 7, 9, 10, 15, 16, 17, 18, 20, 21, 22, 23, 24, 25, 26, 27",
   "id": "a7040db7776d0deb"
  },
  {
   "metadata": {
    "ExecuteTime": {
     "end_time": "2025-04-27T20:59:36.249749Z",
     "start_time": "2025-04-27T20:59:35.582859Z"
    }
   },
   "cell_type": "code",
   "source": [
    "import pandas as pd\n",
    "\n",
    "df = pd.read_csv('NationalNames.csv')"
   ],
   "id": "261c4ab518865d49",
   "outputs": [],
   "execution_count": 3
  },
  {
   "metadata": {},
   "cell_type": "markdown",
   "source": "2. Вивести останні 8 рядків набору даних.",
   "id": "4305416a4c6db305"
  },
  {
   "metadata": {
    "ExecuteTime": {
     "end_time": "2025-04-27T21:00:19.821769Z",
     "start_time": "2025-04-27T21:00:19.811609Z"
    }
   },
   "cell_type": "code",
   "source": "print(df.tail(8))",
   "id": "67f795a72dc4b84",
   "outputs": [
    {
     "name": "stdout",
     "output_type": "stream",
     "text": [
      "              Id     Name  Year Gender  Count\n",
      "1825425  1825426       Zo  2014      M      5\n",
      "1825426  1825427    Zyeir  2014      M      5\n",
      "1825427  1825428     Zyel  2014      M      5\n",
      "1825428  1825429   Zykeem  2014      M      5\n",
      "1825429  1825430   Zymeer  2014      M      5\n",
      "1825430  1825431  Zymiere  2014      M      5\n",
      "1825431  1825432    Zyran  2014      M      5\n",
      "1825432  1825433    Zyrin  2014      M      5\n"
     ]
    }
   ],
   "execution_count": 4
  },
  {
   "metadata": {},
   "cell_type": "markdown",
   "source": "4. Отримайте загальну інформацію про дані у наборі даних.",
   "id": "67b634be1fa24915"
  },
  {
   "metadata": {
    "ExecuteTime": {
     "end_time": "2025-04-27T21:02:01.260426Z",
     "start_time": "2025-04-27T21:02:01.111558Z"
    }
   },
   "cell_type": "code",
   "source": "print(df.describe())",
   "id": "ec0bfe401936a524",
   "outputs": [
    {
     "name": "stdout",
     "output_type": "stream",
     "text": [
      "                 Id          Year         Count\n",
      "count  1.825433e+06  1.825433e+06  1.825433e+06\n",
      "mean   9.127170e+05  1.972620e+03  1.846879e+02\n",
      "std    5.269573e+05  3.352891e+01  1.566711e+03\n",
      "min    1.000000e+00  1.880000e+03  5.000000e+00\n",
      "25%    4.563590e+05  1.949000e+03  7.000000e+00\n",
      "50%    9.127170e+05  1.982000e+03  1.200000e+01\n",
      "75%    1.369075e+06  2.001000e+03  3.200000e+01\n",
      "max    1.825433e+06  2.014000e+03  9.968000e+04\n"
     ]
    }
   ],
   "execution_count": 6
  },
  {
   "metadata": {},
   "cell_type": "markdown",
   "source": "6. Обчисліть кількість унікальних жіночих та чоловічих імен у цілому наборі даних",
   "id": "4d615d82831855e0"
  },
  {
   "metadata": {
    "ExecuteTime": {
     "end_time": "2025-04-27T21:03:00.213505Z",
     "start_time": "2025-04-27T21:02:59.832780Z"
    }
   },
   "cell_type": "code",
   "source": [
    "unique_female_names = df[df['Gender'] == 'F']['Name'].nunique()\n",
    "unique_male_names = df[df['Gender'] == 'M']['Name'].nunique()\n",
    "\n",
    "print(f\"Унікальних жіночих імен: {unique_female_names}\")\n",
    "print(f\"Унікальних чоловічих імен: {unique_male_names}\")"
   ],
   "id": "73dac4610f135dd2",
   "outputs": [
    {
     "name": "stdout",
     "output_type": "stream",
     "text": [
      "Унікальних жіночих імен: 64911\n",
      "Унікальних чоловічих імен: 39199\n"
     ]
    }
   ],
   "execution_count": 7
  },
  {
   "metadata": {},
   "cell_type": "markdown",
   "source": "7. Знайдіть 5 найпопулярніших чоловічих імен у 2010 році",
   "id": "b53af18e3edd8003"
  },
  {
   "metadata": {
    "ExecuteTime": {
     "end_time": "2025-04-27T21:04:06.126764Z",
     "start_time": "2025-04-27T21:04:06.035628Z"
    }
   },
   "cell_type": "code",
   "source": [
    "top5_male_2010 = (\n",
    "    df[(df['Gender'] == 'M') & (df['Year'] == 2010)]\n",
    "    .groupby('Name', as_index=False)['Count']\n",
    "    .sum()\n",
    "    .sort_values('Count', ascending=False)\n",
    "    .head(5)\n",
    ")\n",
    "print(top5_male_2010)"
   ],
   "id": "3cf4c77c38b9ee12",
   "outputs": [
    {
     "name": "stdout",
     "output_type": "stream",
     "text": [
      "          Name  Count\n",
      "5610     Jacob  22082\n",
      "4359     Ethan  17985\n",
      "9563   Michael  17308\n",
      "6296    Jayden  17152\n",
      "13498  William  17030\n"
     ]
    }
   ],
   "execution_count": 8
  },
  {
   "metadata": {},
   "cell_type": "markdown",
   "source": "9. Підрахуйте кількість записів, для яких Count - мінімальне у наборі",
   "id": "3cd7c294cd9dfa72"
  },
  {
   "metadata": {
    "ExecuteTime": {
     "end_time": "2025-04-27T21:05:01.100430Z",
     "start_time": "2025-04-27T21:05:01.091553Z"
    }
   },
   "cell_type": "code",
   "source": [
    "min_count = df['Count'].min()\n",
    "num_min_records = (df['Count'] == min_count).sum()\n",
    "print(f\"Кількість записів з мінімальним Count ({min_count}): {num_min_records}\")"
   ],
   "id": "54f0b83684b63968",
   "outputs": [
    {
     "name": "stdout",
     "output_type": "stream",
     "text": [
      "Кількість записів з мінімальним Count (5): 254615\n"
     ]
    }
   ],
   "execution_count": 9
  },
  {
   "metadata": {},
   "cell_type": "markdown",
   "source": "10. Підрахуйте кількість унікальних імен у кожному році",
   "id": "1a2f950dfef9ebbe"
  },
  {
   "metadata": {
    "ExecuteTime": {
     "end_time": "2025-04-27T21:06:29.050615Z",
     "start_time": "2025-04-27T21:06:28.631478Z"
    }
   },
   "cell_type": "code",
   "source": [
    "unique_names_per_year = df.groupby('Year')['Name'].nunique()\n",
    "print(unique_names_per_year)"
   ],
   "id": "f3d181268266fde",
   "outputs": [
    {
     "name": "stdout",
     "output_type": "stream",
     "text": [
      "Year\n",
      "1880     1889\n",
      "1881     1830\n",
      "1882     2012\n",
      "1883     1962\n",
      "1884     2158\n",
      "        ...  \n",
      "2010    31603\n",
      "2011    31418\n",
      "2012    31236\n",
      "2013    30774\n",
      "2014    30579\n",
      "Name: Name, Length: 135, dtype: int64\n"
     ]
    }
   ],
   "execution_count": 10
  },
  {
   "metadata": {},
   "cell_type": "markdown",
   "source": "15. Знайдіть загальну кількість народжень за рік",
   "id": "447eafe663cacec4"
  },
  {
   "metadata": {
    "ExecuteTime": {
     "end_time": "2025-04-27T21:07:01.190595Z",
     "start_time": "2025-04-27T21:07:01.151577Z"
    }
   },
   "cell_type": "code",
   "source": [
    "births_per_year = df.groupby('Year')['Count'].sum()\n",
    "print(births_per_year)"
   ],
   "id": "3bca7f1c1915f0fb",
   "outputs": [
    {
     "name": "stdout",
     "output_type": "stream",
     "text": [
      "Year\n",
      "1880     201484\n",
      "1881     192699\n",
      "1882     221538\n",
      "1883     216950\n",
      "1884     243467\n",
      "         ...   \n",
      "2010    3686589\n",
      "2011    3646730\n",
      "2012    3643336\n",
      "2013    3626802\n",
      "2014    3670151\n",
      "Name: Count, Length: 135, dtype: int64\n"
     ]
    }
   ],
   "execution_count": 11
  },
  {
   "metadata": {},
   "cell_type": "markdown",
   "source": "16. Знайдіть рік, коли народилося найбільше дітей",
   "id": "97b4efeb7cc6223b"
  },
  {
   "metadata": {
    "ExecuteTime": {
     "end_time": "2025-04-27T21:10:11.840619Z",
     "start_time": "2025-04-27T21:10:11.792526Z"
    }
   },
   "cell_type": "code",
   "source": [
    "births_per_year = df.groupby('Year')['Count'].sum()\n",
    "year_max = births_per_year.idxmax()\n",
    "print(year_max)"
   ],
   "id": "6302ae06754d6588",
   "outputs": [
    {
     "name": "stdout",
     "output_type": "stream",
     "text": [
      "1957\n"
     ]
    }
   ],
   "execution_count": 12
  },
  {
   "metadata": {},
   "cell_type": "markdown",
   "source": [
    "17. Знайдіть кількість дівчаток та хлопчиків, які народились кожного \n",
    "року"
   ],
   "id": "a59c406098e3ce41"
  },
  {
   "metadata": {
    "ExecuteTime": {
     "end_time": "2025-04-27T21:11:22.800455Z",
     "start_time": "2025-04-27T21:11:22.662839Z"
    }
   },
   "cell_type": "code",
   "source": [
    "births_by_gender_year = df.groupby(['Year', 'Gender'])['Count'].sum().unstack(fill_value=0)\n",
    "print(births_by_gender_year)"
   ],
   "id": "72c7457a4acbcba3",
   "outputs": [
    {
     "name": "stdout",
     "output_type": "stream",
     "text": [
      "Gender        F        M\n",
      "Year                    \n",
      "1880      90993   110491\n",
      "1881      91954   100745\n",
      "1882     107850   113688\n",
      "1883     112321   104629\n",
      "1884     129022   114445\n",
      "...         ...      ...\n",
      "2010    1772738  1913851\n",
      "2011    1753500  1893230\n",
      "2012    1753922  1889414\n",
      "2013    1745339  1881463\n",
      "2014    1768775  1901376\n",
      "\n",
      "[135 rows x 2 columns]\n"
     ]
    }
   ],
   "execution_count": 13
  },
  {
   "metadata": {},
   "cell_type": "markdown",
   "source": "18. Підрахуйте кількість років, коли дівчаток народжувалось більше, ніж хлопчиків",
   "id": "2ce18241d6859781"
  },
  {
   "metadata": {
    "ExecuteTime": {
     "end_time": "2025-04-27T21:12:01.447954Z",
     "start_time": "2025-04-27T21:12:01.437636Z"
    }
   },
   "cell_type": "code",
   "source": [
    "years_more_girls = (births_by_gender_year['F'] > births_by_gender_year['M']).sum()\n",
    "print(years_more_girls)"
   ],
   "id": "6876d24fe934fe16",
   "outputs": [
    {
     "name": "stdout",
     "output_type": "stream",
     "text": [
      "54\n"
     ]
    }
   ],
   "execution_count": 14
  },
  {
   "metadata": {},
   "cell_type": "markdown",
   "source": "20. Підрахуйте кількість гендерно-нейтральних імен (однакових для дівчат та хлопців)",
   "id": "e446f3e45c42d5f7"
  },
  {
   "metadata": {
    "ExecuteTime": {
     "end_time": "2025-04-27T21:12:31.601525Z",
     "start_time": "2025-04-27T21:12:31.280450Z"
    }
   },
   "cell_type": "code",
   "source": [
    "gender_neutral_names = df.groupby('Name')['Gender'].nunique()\n",
    "gender_neutral_count = (gender_neutral_names == 2).sum()\n",
    "print(gender_neutral_count)"
   ],
   "id": "6c523a40e6e612b7",
   "outputs": [
    {
     "name": "stdout",
     "output_type": "stream",
     "text": [
      "10221\n"
     ]
    }
   ],
   "execution_count": 15
  },
  {
   "metadata": {},
   "cell_type": "markdown",
   "source": "21. Порахуйте, скільки разів хлопчиків називали Barbara",
   "id": "f61637f967e1cdf5"
  },
  {
   "metadata": {
    "ExecuteTime": {
     "end_time": "2025-04-27T21:13:02.160694Z",
     "start_time": "2025-04-27T21:13:02.001350Z"
    }
   },
   "cell_type": "code",
   "source": [
    "barbara_boys_count = df[(df['Gender'] == 'M') & (df['Name'] == 'Barbara')]['Count'].sum()\n",
    "print(barbara_boys_count)"
   ],
   "id": "1953353505e7de87",
   "outputs": [
    {
     "name": "stdout",
     "output_type": "stream",
     "text": [
      "4139\n"
     ]
    }
   ],
   "execution_count": 16
  },
  {
   "metadata": {},
   "cell_type": "markdown",
   "source": "22. Підрахуйте скільки років проводилось спостереження",
   "id": "44858f85b24981b6"
  },
  {
   "metadata": {
    "ExecuteTime": {
     "end_time": "2025-04-27T21:13:36.430571Z",
     "start_time": "2025-04-27T21:13:36.411532Z"
    }
   },
   "cell_type": "code",
   "source": [
    "num_years_observed = df['Year'].nunique()\n",
    "print(num_years_observed)"
   ],
   "id": "20a23bf19470032a",
   "outputs": [
    {
     "name": "stdout",
     "output_type": "stream",
     "text": [
      "135\n"
     ]
    }
   ],
   "execution_count": 17
  },
  {
   "metadata": {},
   "cell_type": "markdown",
   "source": "23. Знати найпопулярніші гендерно-нейтральні імена (ті, що присутні кожного року)",
   "id": "e87ad4e2d40ba385"
  },
  {
   "metadata": {
    "ExecuteTime": {
     "end_time": "2025-04-27T21:23:00.010612Z",
     "start_time": "2025-04-27T21:22:59.322637Z"
    }
   },
   "cell_type": "code",
   "source": [
    "# Кількість різних років у наборі даних\n",
    "total_years = df['Year'].nunique()\n",
    "\n",
    "# Знайдемо гендерно-нейтральні імена\n",
    "gender_counts = df.groupby('Name')['Gender'].nunique()\n",
    "neutral_names = gender_counts[gender_counts == 2].index\n",
    "\n",
    "# Визначимо, у скількох роках зустрічається кожне з цих імен\n",
    "years_per_name = (\n",
    "    df[df['Name'].isin(neutral_names)]\n",
    "    .groupby('Name')['Year']\n",
    "    .nunique()\n",
    ")\n",
    "\n",
    "names_every_year = years_per_name[years_per_name == total_years].index\n",
    "\n",
    "result_df = pd.DataFrame(names_every_year, columns=['Name'])\n",
    "print(result_df)"
   ],
   "id": "8772f678aa4782e3",
   "outputs": [
    {
     "name": "stdout",
     "output_type": "stream",
     "text": [
      "         Name\n",
      "0       Aaron\n",
      "1       Abbie\n",
      "2        Abel\n",
      "3     Abigail\n",
      "4     Abraham\n",
      "..        ...\n",
      "818    Wilson\n",
      "819  Winifred\n",
      "820    Winnie\n",
      "821     Wyatt\n",
      "822       Zoe\n",
      "\n",
      "[823 rows x 1 columns]\n"
     ]
    }
   ],
   "execution_count": 23
  },
  {
   "metadata": {},
   "cell_type": "markdown",
   "source": "24. Знайти найпопулярніше серед непопулярних імен (непопулярне ім’я, яким називали дітей найбільшу кількість разів)",
   "id": "ea67a239673ecaf7"
  },
  {
   "metadata": {
    "ExecuteTime": {
     "end_time": "2025-04-27T21:28:32.963637Z",
     "start_time": "2025-04-27T21:28:32.701480Z"
    }
   },
   "cell_type": "code",
   "source": [
    "least_popular_names = df.groupby('Name')['Count'].sum()\n",
    "least_popular_names_filtered = least_popular_names[least_popular_names >= 160]\n",
    "least_popular_name = least_popular_names_filtered.idxmin()\n",
    "\n",
    "print(least_popular_name, least_popular_names_filtered.min())"
   ],
   "id": "f3d9370ed452392d",
   "outputs": [
    {
     "name": "stdout",
     "output_type": "stream",
     "text": [
      "Adriyana 160\n"
     ]
    }
   ],
   "execution_count": 30
  },
  {
   "metadata": {},
   "cell_type": "markdown",
   "source": "25. Побудувати графіки розподілення кількості імен John та Mary по роках без залежності до статі.\n",
   "id": "c93ba5d5e9fc9844"
  },
  {
   "metadata": {
    "ExecuteTime": {
     "end_time": "2025-04-27T21:29:55.556816Z",
     "start_time": "2025-04-27T21:29:54.742525Z"
    }
   },
   "cell_type": "code",
   "source": "import matplotlib.pyplot as plt",
   "id": "d6d53994700bf933",
   "outputs": [],
   "execution_count": 31
  },
  {
   "metadata": {
    "ExecuteTime": {
     "end_time": "2025-04-27T21:30:27.020575Z",
     "start_time": "2025-04-27T21:30:26.761332Z"
    }
   },
   "cell_type": "code",
   "source": [
    "john_data = df[df['Name'] == 'John'].groupby('Year')['Count'].sum()\n",
    "mary_data = df[df['Name'] == 'Mary'].groupby('Year')['Count'].sum()\n",
    "\n",
    "plt.figure(figsize=(10, 6))\n",
    "\n",
    "# Графік для John\n",
    "plt.plot(john_data.index, john_data.values, label='John', color='blue')\n",
    "\n",
    "# Графік для Mary\n",
    "plt.plot(mary_data.index, mary_data.values, label='Mary', color='red')\n",
    "\n",
    "plt.title('Розподіл кількості імен John та Mary по роках')\n",
    "plt.xlabel('Рік')\n",
    "plt.ylabel('Кількість')\n",
    "\n",
    "plt.legend()\n",
    "\n",
    "plt.grid(True)\n",
    "plt.show()"
   ],
   "id": "fc28505a2393450d",
   "outputs": [
    {
     "data": {
      "text/plain": [
       "<Figure size 1000x600 with 1 Axes>"
      ],
      "image/png": "[encoded data removed]"
     },
     "metadata": {},
     "output_type": "display_data"
    }
   ],
   "execution_count": 33
  },
  {
   "metadata": {},
   "cell_type": "markdown",
   "source": "26. Побудувати графіки розподілення кількості жіночих імен John та чоловічих імен Mary по роках.",
   "id": "5a1a44e7878fd741"
  },
  {
   "metadata": {
    "ExecuteTime": {
     "end_time": "2025-04-27T21:32:31.350871Z",
     "start_time": "2025-04-27T21:32:30.871232Z"
    }
   },
   "cell_type": "code",
   "source": [
    "john_male_data = df[(df['Name'] == 'John') & (df['Gender'] == 'F')].groupby('Year')['Count'].sum()\n",
    "mary_female_data = df[(df['Name'] == 'Mary') & (df['Gender'] == 'M')].groupby('Year')['Count'].sum()\n",
    "\n",
    "plt.figure(figsize=(10, 6))\n",
    "\n",
    "# Графік для чоловічого імені John\n",
    "plt.plot(john_male_data.index, john_male_data.values, label='John (Male)', color='blue')\n",
    "\n",
    "# Графік для жіночого імені Mary\n",
    "plt.plot(mary_female_data.index, mary_female_data.values, label='Mary (Female)', color='red')\n",
    "\n",
    "plt.title('Розподіл кількості чоловічих імен John та жіночих імен Mary по роках')\n",
    "plt.xlabel('Рік')\n",
    "plt.ylabel('Кількість')\n",
    "\n",
    "plt.legend()\n",
    "\n",
    "plt.grid(True)\n",
    "plt.show()"
   ],
   "id": "4d422369d737c846",
   "outputs": [
    {
     "data": {
      "text/plain": [
       "<Figure size 1000x600 with 1 Axes>"
      ],
      "image/png": "[encoded data removed]"
     },
     "metadata": {},
     "output_type": "display_data"
    }
   ],
   "execution_count": 35
  },
  {
   "metadata": {},
   "cell_type": "markdown",
   "source": "27. Знайти найпопулярніші імена в кожному році.",
   "id": "15e16bc1ae859f6e"
  },
  {
   "metadata": {
    "ExecuteTime": {
     "end_time": "2025-04-27T21:33:10.470803Z",
     "start_time": "2025-04-27T21:33:09.522657Z"
    }
   },
   "cell_type": "code",
   "source": [
    "most_popular_names_per_year = df.groupby(['Year', 'Name'])['Count'].sum().reset_index()\n",
    "most_popular_names_per_year = most_popular_names_per_year.loc[most_popular_names_per_year.groupby('Year')['Count'].idxmax()]\n",
    "\n",
    "print(most_popular_names_per_year[['Year', 'Name', 'Count']])"
   ],
   "id": "464c4b3197cc2754",
   "outputs": [
    {
     "name": "stdout",
     "output_type": "stream",
     "text": [
      "         Year      Name  Count\n",
      "955      1880      John   9701\n",
      "2818     1881      John   8795\n",
      "4735     1882      John   9597\n",
      "6727     1883      John   8934\n",
      "8775     1884      John   9428\n",
      "...       ...       ...    ...\n",
      "1521288  2010  Isabella  22913\n",
      "1568092  2011    Sophia  21839\n",
      "1599369  2012    Sophia  22285\n",
      "1630271  2013    Sophia  21172\n",
      "1643629  2014      Emma  20811\n",
      "\n",
      "[135 rows x 3 columns]\n"
     ]
    }
   ],
   "execution_count": 36
  }
 ],
 "metadata": {
  "kernelspec": {
   "display_name": "Python 3",
   "language": "python",
   "name": "python3"
  },
  "language_info": {
   "codemirror_mode": {
    "name": "ipython",
    "version": 2
   },
   "file_extension": ".py",
   "mimetype": "text/x-python",
   "name": "python",
   "nbconvert_exporter": "python",
   "pygments_lexer": "ipython2",
   "version": "2.7.6"
  }
 },
 "nbformat": 4,
 "nbformat_minor": 5
}
