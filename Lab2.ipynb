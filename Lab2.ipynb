{
 "cells": [
  {
   "metadata": {},
   "cell_type": "markdown",
   "source": "Задання 1. Вводиться число n. Вивести масив розміру n×n, в якому по діагоналі йдуть числа від 1 до n, а інші числа дорівнюють 0. ",
   "id": "2dd4a04beb9f3112"
  },
  {
   "metadata": {
    "ExecuteTime": {
     "end_time": "2025-04-27T19:53:49.344538Z",
     "start_time": "2025-04-27T19:53:49.239882Z"
    }
   },
   "cell_type": "code",
   "source": [
    "import numpy as np\n",
    "from time import time"
   ],
   "id": "eaebdb0681ce88b",
   "outputs": [],
   "execution_count": 2
  },
  {
   "metadata": {
    "ExecuteTime": {
     "end_time": "2025-04-27T19:54:04.942623Z",
     "start_time": "2025-04-27T19:54:04.922507Z"
    }
   },
   "cell_type": "code",
   "source": [
    "def task_1():\n",
    "    \n",
    "    import numpy as np\n",
    "    from time import time\n",
    "\n",
    "    n = int(input(\"Введіть число n: \"))\n",
    "\n",
    "    # Спосіб 1: NumPy\n",
    "    start = time()\n",
    "    arr_numpy = np.zeros((n, n), dtype=int)\n",
    "    np.fill_diagonal(arr_numpy, np.arange(1, n+1))\n",
    "    end = time()\n",
    "\n",
    "    print(\"\\nМасив через NumPy:\")\n",
    "    print(arr_numpy)\n",
    "    print(f\"Час виконання NumPy: {end-start:.8f} сек\\n\")\n",
    "\n",
    "    # Спосіб 2: Цикли\n",
    "    start = time()\n",
    "    arr_loops = [[0 for _ in range(n)] for _ in range(n)]\n",
    "    for i in range(n):\n",
    "        arr_loops[i][i] = i + 1\n",
    "    end = time()\n",
    "\n",
    "    print(\"Масив через цикли:\")\n",
    "    for row in arr_loops:\n",
    "        print(row)\n",
    "    print(f\"Час виконання циклів: {end-start:.8f} сек\\n\")"
   ],
   "id": "e0477d0b06ef0855",
   "outputs": [],
   "execution_count": 3
  },
  {
   "metadata": {
    "ExecuteTime": {
     "end_time": "2025-04-27T19:54:20.431410Z",
     "start_time": "2025-04-27T19:54:16.228538Z"
    }
   },
   "cell_type": "code",
   "source": "task_1()",
   "id": "4178acd57f0d8f2e",
   "outputs": [
    {
     "name": "stdout",
     "output_type": "stream",
     "text": [
      "\n",
      "Масив через NumPy:\n",
      "[[1 0 0 0 0 0 0 0]\n",
      " [0 2 0 0 0 0 0 0]\n",
      " [0 0 3 0 0 0 0 0]\n",
      " [0 0 0 4 0 0 0 0]\n",
      " [0 0 0 0 5 0 0 0]\n",
      " [0 0 0 0 0 6 0 0]\n",
      " [0 0 0 0 0 0 7 0]\n",
      " [0 0 0 0 0 0 0 8]]\n",
      "Час виконання NumPy: 0.00000000 сек\n",
      "\n",
      "Масив через цикли:\n",
      "[1, 0, 0, 0, 0, 0, 0, 0]\n",
      "[0, 2, 0, 0, 0, 0, 0, 0]\n",
      "[0, 0, 3, 0, 0, 0, 0, 0]\n",
      "[0, 0, 0, 4, 0, 0, 0, 0]\n",
      "[0, 0, 0, 0, 5, 0, 0, 0]\n",
      "[0, 0, 0, 0, 0, 6, 0, 0]\n",
      "[0, 0, 0, 0, 0, 0, 7, 0]\n",
      "[0, 0, 0, 0, 0, 0, 0, 8]\n",
      "Час виконання циклів: 0.00000000 сек\n",
      "\n"
     ]
    }
   ],
   "execution_count": 4
  },
  {
   "metadata": {},
   "cell_type": "markdown",
   "source": "Вправа 2. Вводиться число n. Розставити 1 та 0 у шаховому порядку, починаючи з 1 в матриці розміром n×n, використовуючи слайсінг. ",
   "id": "fea9513cb4342988"
  },
  {
   "metadata": {
    "ExecuteTime": {
     "end_time": "2025-04-27T19:57:32.273784Z",
     "start_time": "2025-04-27T19:57:32.263775Z"
    }
   },
   "cell_type": "code",
   "source": [
    "def task_2():\n",
    "   \n",
    "    n = int(input(\"Введіть число n: \"))\n",
    "\n",
    "    # Спосіб 1: NumPy (слайсінг)\n",
    "    start = time()\n",
    "    arr_numpy = np.zeros((n, n), dtype=int)\n",
    "    arr_numpy[::2, ::2] = 1  # Заповнення кожного другого елемента\n",
    "    arr_numpy[1::2, 1::2] = 1\n",
    "    end = time()\n",
    "\n",
    "    print(\"\\nМасив через NumPy (слайсінг):\")\n",
    "    print(arr_numpy)\n",
    "    print(f\"Час виконання NumPy: {end-start:.8f} сек\\n\")\n",
    "\n",
    "    # Спосіб 2: Цикли\n",
    "    start = time()\n",
    "    arr_loops = [[0 for _ in range(n)] for _ in range(n)]\n",
    "    for i in range(n):\n",
    "        for j in range(n):\n",
    "            if (i + j) % 2 == 0:\n",
    "                arr_loops[i][j] = 1\n",
    "    end = time()\n",
    "\n",
    "    print(\"Масив через цикли:\")\n",
    "    for row in arr_loops:\n",
    "        print(row)\n",
    "    print(f\"Час виконання циклів: {end-start:.8f} сек\\n\")"
   ],
   "id": "eb6ac0e69f1ac1a6",
   "outputs": [],
   "execution_count": 5
  },
  {
   "metadata": {
    "ExecuteTime": {
     "end_time": "2025-04-27T19:57:36.585093Z",
     "start_time": "2025-04-27T19:57:33.426048Z"
    }
   },
   "cell_type": "code",
   "source": "task_2()",
   "id": "8b1850ae3f00d9cd",
   "outputs": [
    {
     "name": "stdout",
     "output_type": "stream",
     "text": [
      "\n",
      "Масив через NumPy (слайсінг):\n",
      "[[1 0 1 0 1]\n",
      " [0 1 0 1 0]\n",
      " [1 0 1 0 1]\n",
      " [0 1 0 1 0]\n",
      " [1 0 1 0 1]]\n",
      "Час виконання NumPy: 0.00000000 сек\n",
      "\n",
      "Масив через цикли:\n",
      "[1, 0, 1, 0, 1]\n",
      "[0, 1, 0, 1, 0]\n",
      "[1, 0, 1, 0, 1]\n",
      "[0, 1, 0, 1, 0]\n",
      "[1, 0, 1, 0, 1]\n",
      "Час виконання циклів: 0.00000000 сек\n",
      "\n"
     ]
    }
   ],
   "execution_count": 6
  },
  {
   "metadata": {},
   "cell_type": "markdown",
   "source": "Вправа 3. Вводяться 4 числа n, m, r, c. Вивести масив розміру n×m, в якому в кожному рядку з номером r і в кожному стовпчику з номером c стоять 0, а інші елементи дорівнюють 1.",
   "id": "341dbac233017923"
  },
  {
   "metadata": {
    "ExecuteTime": {
     "end_time": "2025-04-27T20:02:21.107941Z",
     "start_time": "2025-04-27T20:02:21.088543Z"
    }
   },
   "cell_type": "code",
   "source": [
    "def task_3():\n",
    "    # Введення чисел n, m, r, c\n",
    "    n, m, r, c = map(int, input(\"Введіть числа n, m, r, c через пробіл: \").split())\n",
    "\n",
    "    # Спосіб 1: NumPy\n",
    "    start = time()\n",
    "    arr_numpy = np.ones((n, m), dtype=int)  # Спочатку заповнюємо одиничним масивом\n",
    "    arr_numpy[r, :] = 0  # Онуляємо рядок r\n",
    "    arr_numpy[:, c] = 0  # Онуляємо стовпець c\n",
    "    end = time()\n",
    "\n",
    "    print(\"\\nМасив через NumPy:\")\n",
    "    print(arr_numpy)\n",
    "    print(f\"Час виконання NumPy: {end-start:.8f} сек\\n\")\n",
    "\n",
    "    # Спосіб 2: Цикли\n",
    "    start = time()\n",
    "    arr_loops = [[1 for _ in range(m)] for _ in range(n)]  # Спочатку заповнюємо одиничним масивом\n",
    "    for i in range(n):\n",
    "        arr_loops[i][c] = 0  # Онуляємо стовпець c\n",
    "    arr_loops[r] = [0] * m  # Онуляємо рядок r\n",
    "    end = time()\n",
    "\n",
    "    print(\"Масив через цикли:\")\n",
    "    for row in arr_loops:\n",
    "        print(row)\n",
    "    print(f\"Час виконання циклів: {end-start:.8f} сек\\n\")"
   ],
   "id": "c5d5d825c8d62665",
   "outputs": [],
   "execution_count": 7
  },
  {
   "metadata": {
    "ExecuteTime": {
     "end_time": "2025-04-27T20:02:48.773Z",
     "start_time": "2025-04-27T20:02:31.773300Z"
    }
   },
   "cell_type": "code",
   "source": "task_3()",
   "id": "692f3eeb44b64a13",
   "outputs": [
    {
     "name": "stdout",
     "output_type": "stream",
     "text": [
      "\n",
      "Масив через NumPy:\n",
      "[[1 1 1 0 1 1 1]\n",
      " [1 1 1 0 1 1 1]\n",
      " [0 0 0 0 0 0 0]\n",
      " [1 1 1 0 1 1 1]\n",
      " [1 1 1 0 1 1 1]\n",
      " [1 1 1 0 1 1 1]]\n",
      "Час виконання NumPy: 0.00000000 сек\n",
      "\n",
      "Масив через цикли:\n",
      "[1, 1, 1, 0, 1, 1, 1]\n",
      "[1, 1, 1, 0, 1, 1, 1]\n",
      "[0, 0, 0, 0, 0, 0, 0]\n",
      "[1, 1, 1, 0, 1, 1, 1]\n",
      "[1, 1, 1, 0, 1, 1, 1]\n",
      "[1, 1, 1, 0, 1, 1, 1]\n",
      "Час виконання циклів: 0.00000000 сек\n",
      "\n"
     ]
    }
   ],
   "execution_count": 8
  },
  {
   "metadata": {},
   "cell_type": "markdown",
   "source": "Вправа 4. Вводяться числа n і m. Вивести масив розміру n×m, в якому у першому рядку (рядок з нулевим індексом) йдуть числа від 0 до m–1, а всі інші елементи матриці дорівнюють 0.",
   "id": "53847e38ed21b78b"
  },
  {
   "metadata": {
    "ExecuteTime": {
     "end_time": "2025-04-27T20:04:46.392858Z",
     "start_time": "2025-04-27T20:04:46.382860Z"
    }
   },
   "cell_type": "code",
   "source": [
    "def task_4():\n",
    "    n, m = map(int, input(\"Введіть n m: \").split())\n",
    "\n",
    "    # Спосіб 1: NumPy\n",
    "    start = time()\n",
    "    arr_numpy = np.zeros((n, m), dtype=int)\n",
    "    arr_numpy[0] = np.arange(m)\n",
    "    end = time()\n",
    "    print(\"\\nМасив через NumPy:\")\n",
    "    print(arr_numpy)\n",
    "    print(f\"Час виконання NumPy: {end - start:.8f} сек\\n\")\n",
    "\n",
    "    # Спосіб 2: Цикли\n",
    "    start = time()\n",
    "    arr_loops = [[0] * m for _ in range(n)]\n",
    "    for j in range(m):\n",
    "        arr_loops[0][j] = j\n",
    "    end = time()\n",
    "    print(\"Масив через цикли:\")\n",
    "    for row in arr_loops:\n",
    "        print(row)\n",
    "    print(f\"Час виконання циклів: {end - start:.8f} сек\\n\")"
   ],
   "id": "b7869d1c297bb7cb",
   "outputs": [],
   "execution_count": 9
  },
  {
   "metadata": {
    "ExecuteTime": {
     "end_time": "2025-04-27T20:05:18.139999Z",
     "start_time": "2025-04-27T20:04:51.008544Z"
    }
   },
   "cell_type": "code",
   "source": "task_4()",
   "id": "997be583a950862a",
   "outputs": [
    {
     "name": "stdout",
     "output_type": "stream",
     "text": [
      "\n",
      "Масив через NumPy:\n",
      "[[0 1 2 3]\n",
      " [0 0 0 0]\n",
      " [0 0 0 0]]\n",
      "Час виконання NumPy: 0.00000000 сек\n",
      "\n",
      "Масив через цикли:\n",
      "[0, 1, 2, 3]\n",
      "[0, 0, 0, 0]\n",
      "[0, 0, 0, 0]\n",
      "Час виконання циклів: 0.00000000 сек\n",
      "\n"
     ]
    }
   ],
   "execution_count": 10
  },
  {
   "metadata": {},
   "cell_type": "markdown",
   "source": "Вправа 6. З клавіатури вводиться масив. Замінити всі ненульові елементи на –1. ",
   "id": "2c56ee898384d35c"
  },
  {
   "metadata": {
    "ExecuteTime": {
     "end_time": "2025-04-27T20:08:22.652780Z",
     "start_time": "2025-04-27T20:08:22.632695Z"
    }
   },
   "cell_type": "code",
   "source": [
    "def task_6():\n",
    "    # Введення масиву через пробіл\n",
    "    data = list(map(int, input(\"Введіть елементи масиву через пробіл: \").split()))\n",
    "    arr = np.array(data)\n",
    "    \n",
    "    # Спосіб 1: NumPy\n",
    "    start = time()\n",
    "    arr_numpy = np.where(arr != 0, -1, 0)\n",
    "    end = time()\n",
    "    print(\"Результат через NumPy:\", arr_numpy)\n",
    "    print(f\"Час виконання NumPy: {end - start:.8f} сек\")\n",
    "    \n",
    "    # Спосіб 2: Цикли\n",
    "    start = time()\n",
    "    arr_loops = [-1 if x != 0 else 0 for x in data]\n",
    "    end = time()\n",
    "    print(\"Результат через цикли:\", arr_loops)\n",
    "    print(f\"Час виконання циклів: {end - start:.8f} сек\")"
   ],
   "id": "49376c7b467d7703",
   "outputs": [],
   "execution_count": 12
  },
  {
   "metadata": {
    "ExecuteTime": {
     "end_time": "2025-04-27T20:08:42.286144Z",
     "start_time": "2025-04-27T20:08:25.545110Z"
    }
   },
   "cell_type": "code",
   "source": "task_6()",
   "id": "f6438c3170a8b337",
   "outputs": [
    {
     "name": "stdout",
     "output_type": "stream",
     "text": [
      "Результат через NumPy: [-1 -1  0 -1  0 -1 -1  0]\n",
      "Час виконання NumPy: 0.00000000 сек\n",
      "Результат через цикли: [-1, -1, 0, -1, 0, -1, -1, 0]\n",
      "Час виконання циклів: 0.00000000 сек\n"
     ]
    }
   ],
   "execution_count": 13
  },
  {
   "metadata": {},
   "cell_type": "markdown",
   "source": "Вправа 8. З клавіатури вводиться масив. Підрахувати в ньому кількість нульових та ненульових елементів.",
   "id": "2aee84b41dc410a7"
  },
  {
   "metadata": {
    "ExecuteTime": {
     "end_time": "2025-04-27T20:10:34.194772Z",
     "start_time": "2025-04-27T20:10:34.184761Z"
    }
   },
   "cell_type": "code",
   "source": [
    "def task_8():\n",
    "    # Введення масиву через пробіл\n",
    "    data = list(map(int, input(\"Введіть елементи масиву через пробіл: \").split()))\n",
    "    arr = np.array(data)\n",
    "    \n",
    "    # Спосіб 1: NumPy\n",
    "    start = time()\n",
    "    zeros = np.sum(arr == 0)\n",
    "    nonzeros = np.sum(arr != 0)\n",
    "    end = time()\n",
    "    print(f\"NumPy: нульових = {zeros}, ненульових = {nonzeros}\")\n",
    "    print(f\"Час виконання NumPy: {end - start:.8f} сек\")\n",
    "    \n",
    "    # Спосіб 2: Цикли\n",
    "    start = time()\n",
    "    zeros2 = 0\n",
    "    nonzeros2 = 0\n",
    "    for x in data:\n",
    "        if x == 0:\n",
    "            zeros2 += 1\n",
    "        else:\n",
    "            nonzeros2 += 1\n",
    "    end = time()\n",
    "    print(f\"Цикли: нульових = {zeros2}, ненульових = {nonzeros2}\")\n",
    "    print(f\"Час виконання циклів: {end - start:.8f} сек\")"
   ],
   "id": "e563264c87318d7f",
   "outputs": [],
   "execution_count": 14
  },
  {
   "metadata": {
    "ExecuteTime": {
     "end_time": "2025-04-27T20:11:10.668253Z",
     "start_time": "2025-04-27T20:11:06.056806Z"
    }
   },
   "cell_type": "code",
   "source": "task_8()",
   "id": "18dd25b6d85a85d4",
   "outputs": [
    {
     "name": "stdout",
     "output_type": "stream",
     "text": [
      "NumPy: нульових = 1, ненульових = 2\n",
      "Час виконання NumPy: 0.00000000 сек\n",
      "Цикли: нульових = 1, ненульових = 2\n",
      "Час виконання циклів: 0.00000000 сек\n"
     ]
    }
   ],
   "execution_count": 16
  },
  {
   "metadata": {},
   "cell_type": "markdown",
   "source": "Вправа 11. Створити масив одиниць розміром n×n та додати до нього «рамку», що утворюється з 0. ",
   "id": "fc694c636d4b2d8c"
  },
  {
   "metadata": {
    "ExecuteTime": {
     "end_time": "2025-04-27T20:17:05.213231Z",
     "start_time": "2025-04-27T20:17:05.203720Z"
    }
   },
   "cell_type": "code",
   "source": [
    "def task_11():\n",
    "    n = int(input(\"Введіть число n: \"))\n",
    "    \n",
    "    # Спосіб 1: NumPy\n",
    "    start = time()\n",
    "    inner = np.ones((n, n), dtype=int)\n",
    "    arr_numpy = np.zeros((n + 2, n + 2), dtype=int)\n",
    "    arr_numpy[1:-1, 1:-1] = inner\n",
    "    end = time()\n",
    "    print(\"Масив через NumPy:\")\n",
    "    print(arr_numpy)\n",
    "    print(f\"Час виконання NumPy: {end - start:.8f} сек\")\n",
    "    \n",
    "    # Спосіб 2: Цикли\n",
    "    start = time()\n",
    "    arr_loops = [[0] * (n + 2) for _ in range(n + 2)]\n",
    "    for i in range(1, n + 1):\n",
    "        for j in range(1, n + 1):\n",
    "            arr_loops[i][j] = 1\n",
    "    end = time()\n",
    "    print(\"Масив через цикли:\")\n",
    "    for row in arr_loops:\n",
    "        print(row)\n",
    "    print(f\"Час виконання циклів: {end - start:.8f} сек\")"
   ],
   "id": "d8619397eea9c97e",
   "outputs": [],
   "execution_count": 21
  },
  {
   "metadata": {
    "ExecuteTime": {
     "end_time": "2025-04-27T20:17:08.023081Z",
     "start_time": "2025-04-27T20:17:06.237371Z"
    }
   },
   "cell_type": "code",
   "source": "task_11()",
   "id": "e8f288d06ae744e1",
   "outputs": [
    {
     "name": "stdout",
     "output_type": "stream",
     "text": [
      "Масив через NumPy:\n",
      "[[0 0 0 0 0]\n",
      " [0 1 1 1 0]\n",
      " [0 1 1 1 0]\n",
      " [0 1 1 1 0]\n",
      " [0 0 0 0 0]]\n",
      "Час виконання NumPy: 0.00000000 сек\n",
      "Масив через цикли:\n",
      "[0, 0, 0, 0, 0]\n",
      "[0, 1, 1, 1, 0]\n",
      "[0, 1, 1, 1, 0]\n",
      "[0, 1, 1, 1, 0]\n",
      "[0, 0, 0, 0, 0]\n",
      "Час виконання циклів: 0.00000000 сек\n"
     ]
    }
   ],
   "execution_count": 22
  },
  {
   "metadata": {},
   "cell_type": "markdown",
   "source": "Вправа 20. Згенерувати вектор із n випадкових елементів, що лежать в інтервалі (0,1). Замінити максимальний елемент на 0. ",
   "id": "21a3f7f17ef9d5ea"
  },
  {
   "metadata": {
    "ExecuteTime": {
     "end_time": "2025-04-27T20:22:01.277159Z",
     "start_time": "2025-04-27T20:22:01.267161Z"
    }
   },
   "cell_type": "code",
   "source": [
    "def task_20():\n",
    "    # Введення числа n\n",
    "    n = int(input(\"Введіть число n: \"))\n",
    "\n",
    "    # Спосіб 1: NumPy\n",
    "    start = time()\n",
    "    arr_numpy = np.random.random(n)  # Генерація випадкових елементів (0,1)\n",
    "    original_numpy = arr_numpy.copy()  # Зберігаємо оригінальний вектор для порівняння\n",
    "    arr_numpy[arr_numpy.argmax()] = 0  # Замінити максимальний елемент на 0\n",
    "    end = time()\n",
    "\n",
    "    print(\"\\nОригінальний вектор через NumPy:\")\n",
    "    print(original_numpy)\n",
    "    print(\"\\nВектор після зміни через NumPy:\")\n",
    "    print(arr_numpy)\n",
    "    print(f\"Час виконання NumPy: {end-start:.8f} сек\\n\")\n",
    "\n",
    "    # Спосіб 2: Цикли\n",
    "    start = time()\n",
    "    arr_loops = [np.random.random() for _ in range(n)]  # Генерація випадкових елементів\n",
    "    original_loops = arr_loops.copy()  # Зберігаємо оригінальний вектор для порівняння\n",
    "    max_index = arr_loops.index(max(arr_loops))  # Пошук максимального елемента\n",
    "    arr_loops[max_index] = 0  # Замінити максимальний елемент на 0\n",
    "    end = time()\n",
    "\n",
    "    print(\"Оригінальний вектор через цикли:\")\n",
    "    print(original_loops)\n",
    "    print(\"\\nВектор після зміни через цикли:\")\n",
    "    print(arr_loops)\n",
    "    print(f\"Час виконання циклів: {end-start:.8f} сек\\n\")"
   ],
   "id": "5bb44c5fa5d01055",
   "outputs": [],
   "execution_count": 25
  },
  {
   "metadata": {
    "ExecuteTime": {
     "end_time": "2025-04-27T20:22:04.344515Z",
     "start_time": "2025-04-27T20:22:02.133129Z"
    }
   },
   "cell_type": "code",
   "source": "task_20()",
   "id": "4fd202a24520cfeb",
   "outputs": [
    {
     "name": "stdout",
     "output_type": "stream",
     "text": [
      "\n",
      "Оригінальний вектор через NumPy:\n",
      "[0.27503088 0.67401258 0.8141348 ]\n",
      "\n",
      "Вектор після зміни через NumPy:\n",
      "[0.27503088 0.67401258 0.        ]\n",
      "Час виконання NumPy: 0.00000000 сек\n",
      "\n",
      "Оригінальний вектор через цикли:\n",
      "[0.7834972736433995, 0.3574569921540659, 0.023008994305587227]\n",
      "\n",
      "Вектор після зміни через цикли:\n",
      "[0, 0.3574569921540659, 0.023008994305587227]\n",
      "Час виконання циклів: 0.00000000 сек\n",
      "\n"
     ]
    }
   ],
   "execution_count": 26
  },
  {
   "metadata": {},
   "cell_type": "markdown",
   "source": "Вправа 21. Ввести числа n і m. Згенерувати матрицю n×n випадкових цілих елементів з діапазону [0, m]. Замінити всі максимальні елементи цієї матриці на протилежні за знаком. ",
   "id": "c953099854e364c4"
  },
  {
   "metadata": {
    "ExecuteTime": {
     "end_time": "2025-04-27T20:25:16.871980Z",
     "start_time": "2025-04-27T20:25:16.861855Z"
    }
   },
   "cell_type": "code",
   "source": [
    "def task_21():\n",
    "    # Введення n та m\n",
    "    n, m = map(int, input(\"Введіть числа n m: \").split())\n",
    "    \n",
    "    # Спосіб 1: NumPy\n",
    "    start = time()\n",
    "    arr_numpy = np.random.randint(0, m+1, (n, n))\n",
    "    print(\"Оригінальна матриця через NumPy:\")\n",
    "    print(arr_numpy)\n",
    "    max_val = arr_numpy.max()\n",
    "    arr_numpy[arr_numpy == max_val] *= -1\n",
    "    end = time()\n",
    "    print(\"Матриця після зміни (NumPy):\")\n",
    "    print(arr_numpy)\n",
    "    print(f\"Час виконання NumPy: {end - start:.8f} сек\")\n",
    "    \n",
    "    # Спосіб 2: Цикли\n",
    "    start = time()\n",
    "    arr_loops = [[np.random.randint(0, m+1) for _ in range(n)] for _ in range(n)]\n",
    "    print(\"Оригінальна матриця через цикли:\")\n",
    "    for row in arr_loops:\n",
    "        print(row)\n",
    "    # Знаходимо максимальне значення\n",
    "    max_val2 = max(max(row) for row in arr_loops)\n",
    "    # Замінюємо всі максимальні елементи на протилежний знак\n",
    "    for i in range(n):\n",
    "        for j in range(n):\n",
    "            if arr_loops[i][j] == max_val2:\n",
    "                arr_loops[i][j] = -arr_loops[i][j]\n",
    "    end = time()\n",
    "    print(\"Матриця після зміни (цикли):\")\n",
    "    for row in arr_loops:\n",
    "        print(row)\n",
    "    print(f\"Час виконання циклів: {end - start:.8f} сек\")"
   ],
   "id": "90bbbac27f3c9065",
   "outputs": [],
   "execution_count": 27
  },
  {
   "metadata": {
    "ExecuteTime": {
     "end_time": "2025-04-27T20:25:54.832087Z",
     "start_time": "2025-04-27T20:25:24.013111Z"
    }
   },
   "cell_type": "code",
   "source": "task_21()",
   "id": "27ed4eacf2f24e5a",
   "outputs": [
    {
     "name": "stdout",
     "output_type": "stream",
     "text": [
      "Оригінальна матриця через NumPy:\n",
      "[[1 3 3]\n",
      " [0 0 4]\n",
      " [4 4 0]]\n",
      "Матриця після зміни (NumPy):\n",
      "[[ 1  3  3]\n",
      " [ 0  0 -4]\n",
      " [-4 -4  0]]\n",
      "Час виконання NumPy: 0.00000000 сек\n",
      "Оригінальна матриця через цикли:\n",
      "[2, 0, 0]\n",
      "[2, 3, 0]\n",
      "[3, 4, 3]\n",
      "Матриця після зміни (цикли):\n",
      "[2, 0, 0]\n",
      "[2, 3, 0]\n",
      "[3, -4, 3]\n",
      "Час виконання циклів: 0.00000000 сек\n"
     ]
    }
   ],
   "execution_count": 28
  },
  {
   "metadata": {},
   "cell_type": "markdown",
   "source": [
    "Розв'язати систему рівнянь:\n",
    "4x1 + x2 - x4 = -9\n",
    "x1 - 3x2 + 4x3 = 7\n",
    "3x2 - 2x3 + 4x4 = 12\n",
    "x1 + 2x3 + 4x4 = 12\n",
    "\n",
    "Трьома способами:\n",
    "- формули Крамера,\n",
    "- обернена матриця,\n",
    "- numpy.linalg.solve()\n",
    "\n",
    "Перевірка через numpy.allclose()"
   ],
   "id": "884a8f35c9496427"
  },
  {
   "metadata": {
    "ExecuteTime": {
     "end_time": "2025-04-27T20:30:16.462102Z",
     "start_time": "2025-04-27T20:30:16.442768Z"
    }
   },
   "cell_type": "code",
   "source": [
    "from numpy.linalg import det, inv, solve\n",
    "def solve_system():\n",
    "    # Коефіцієнтна матриця та вектор вільних членів\n",
    "    A = np.array([[4, 1, 0, -1],\n",
    "                  [1, -3, 4, 0],\n",
    "                  [0, 3, -2, 4],\n",
    "                  [1, 0, 2, 4]], dtype=float)\n",
    "    b = np.array([-9, 7, 12, 12], dtype=float)\n",
    "\n",
    "    # Формули Крамера\n",
    "    detA = det(A)\n",
    "    x_cramer = np.zeros(4)\n",
    "    for i in range(4):\n",
    "        Ai = A.copy()\n",
    "        Ai[:, i] = b\n",
    "        x_cramer[i] = det(Ai) / detA\n",
    "\n",
    "    # Обернена матриця\n",
    "    A_inv = inv(A)\n",
    "    x_inv = A_inv.dot(b)\n",
    "\n",
    "    # numpy.linalg.solve\n",
    "    x_solve = solve(A, b)\n",
    "\n",
    "    # Вивід результатів\n",
    "    print(\"Рішення системи рівнянь:\")\n",
    "    print(\"Метод Крамера:\", x_cramer)\n",
    "    print(\"Через обернену матрицю:\", x_inv)\n",
    "    print(\"numpy.linalg.solve():\", x_solve)\n",
    "    # Перевірка\n",
    "    print(\"Перевірка рівності рішень (allclose):\", np.allclose(x_cramer, x_inv) and np.allclose(x_inv, x_solve))"
   ],
   "id": "7c9ee61394969fb7",
   "outputs": [],
   "execution_count": 29
  },
  {
   "metadata": {
    "ExecuteTime": {
     "end_time": "2025-04-27T20:30:20.272022Z",
     "start_time": "2025-04-27T20:30:20.264446Z"
    }
   },
   "cell_type": "code",
   "source": "solve_system()",
   "id": "c22a17003ef2eda2",
   "outputs": [
    {
     "name": "stdout",
     "output_type": "stream",
     "text": [
      "Рішення системи рівнянь:\n",
      "Метод Крамера: [-7.88129935e+15  2.36438980e+16  1.97032484e+16 -7.88129935e+15]\n",
      "Через обернену матрицю: [-7.88129935e+15  2.36438980e+16  1.97032484e+16 -7.88129935e+15]\n",
      "numpy.linalg.solve(): [-7.88129935e+15  2.36438980e+16  1.97032484e+16 -7.88129935e+15]\n",
      "Перевірка рівності рішень (allclose): True\n"
     ]
    }
   ],
   "execution_count": 30
  },
  {
   "metadata": {},
   "cell_type": "markdown",
   "source": "Обчислити вираз: 3(A^2 - B^2) - 2AB, де A і B - задані матриці.",
   "id": "914cfef982371058"
  },
  {
   "metadata": {
    "ExecuteTime": {
     "end_time": "2025-04-27T20:42:12.640702Z",
     "start_time": "2025-04-27T20:42:12.622963Z"
    }
   },
   "cell_type": "code",
   "source": [
    "def task_3_matrix_expression():\n",
    "    # Задано матриці A та B\n",
    "    A = np.array([[4, 2, 1], [3, -2, 0], [1, 0, 2]])\n",
    "    B = np.array([[2, 0, 2], [5, -7, -2], [1, 0, -1]])\n",
    "\n",
    "    # Спосіб 1: NumPy (Універсальні функції)\n",
    "    start = time()\n",
    "    A_squared = np.dot(A, A)  # A^2\n",
    "    B_squared = np.dot(B, B)  # B^2\n",
    "    AB = np.dot(A, B)         # AB\n",
    "    result_numpy = 3 * (A_squared - B_squared) - 2 * AB  # 3(A^2 - B^2) - 2AB\n",
    "    end = time()\n",
    "\n",
    "    print(\"\\nМатричний вираз через NumPy:\")\n",
    "    print(result_numpy)\n",
    "    print(f\"Час виконання NumPy: {end-start:.8f} сек\\n\")\n",
    "\n",
    "    # Спосіб 2: Цикли (поелементне обчислення)\n",
    "    start = time()\n",
    "    A_squared_loops = np.array([[sum(A[i, k] * A[k, j] for k in range(3)) for j in range(3)] for i in range(3)])  # A^2 через цикли\n",
    "    B_squared_loops = np.array([[sum(B[i, k] * B[k, j] for k in range(3)) for j in range(3)] for i in range(3)])  # B^2 через цикли\n",
    "    AB_loops = np.array([[sum(A[i, k] * B[k, j] for k in range(3)) for j in range(3)] for i in range(3)])  # AB через цикли\n",
    "    result_loops = 3 * (A_squared_loops - B_squared_loops) - 2 * AB_loops  # 3(A^2 - B^2) - 2AB через цикли\n",
    "    end = time()\n",
    "\n",
    "    print(\"Матричний вираз через цикли:\")\n",
    "    print(result_loops)\n",
    "    print(f\"Час виконання циклів: {end-start:.8f} сек\\n\")\n",
    "\n",
    "    # Перевірка результатів через np.allclose()\n",
    "    print(\"Перевірка результатів через np.allclose():\")\n",
    "    print(np.allclose(result_numpy, result_loops))"
   ],
   "id": "d62b8f5b9559d5ca",
   "outputs": [],
   "execution_count": 31
  },
  {
   "metadata": {
    "ExecuteTime": {
     "end_time": "2025-04-27T20:42:13.460892Z",
     "start_time": "2025-04-27T20:42:13.452776Z"
    }
   },
   "cell_type": "code",
   "source": "task_3_matrix_expression()",
   "id": "900104085d8a2749",
   "outputs": [
    {
     "name": "stdout",
     "output_type": "stream",
     "text": [
      "\n",
      "Матричний вираз через NumPy:\n",
      "[[  13   40    6]\n",
      " [ 107 -145  -89]\n",
      " [   7    6    6]]\n",
      "Час виконання NumPy: 0.00000000 сек\n",
      "\n",
      "Матричний вираз через цикли:\n",
      "[[  13   40    6]\n",
      " [ 107 -145  -89]\n",
      " [   7    6    6]]\n",
      "Час виконання циклів: 0.00000000 сек\n",
      "\n",
      "Перевірка результатів через np.allclose():\n",
      "True\n"
     ]
    }
   ],
   "execution_count": 32
  },
  {
   "metadata": {},
   "cell_type": "code",
   "outputs": [],
   "execution_count": null,
   "source": "",
   "id": "30741bccb7d873e5"
  }
 ],
 "metadata": {
  "kernelspec": {
   "display_name": "Python 3",
   "language": "python",
   "name": "python3"
  },
  "language_info": {
   "codemirror_mode": {
    "name": "ipython",
    "version": 2
   },
   "file_extension": ".py",
   "mimetype": "text/x-python",
   "name": "python",
   "nbconvert_exporter": "python",
   "pygments_lexer": "ipython2",
   "version": "2.7.6"
  }
 },
 "nbformat": 4,
 "nbformat_minor": 5
}
