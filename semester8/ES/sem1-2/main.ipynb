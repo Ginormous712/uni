{
 "cells": [
  {
   "metadata": {},
   "cell_type": "markdown",
   "source": "Reading .csv file and preview",
   "id": "a85b88ee11f86192"
  },
  {
   "metadata": {
    "ExecuteTime": {
     "end_time": "2025-01-25T20:29:08.539563Z",
     "start_time": "2025-01-25T20:29:06.727061Z"
    }
   },
   "cell_type": "code",
   "source": "import pandas as pd",
   "id": "6b58eba6c526cc8c",
   "outputs": [],
   "execution_count": 1
  },
  {
   "metadata": {
    "ExecuteTime": {
     "end_time": "2025-01-25T20:29:08.609196Z",
     "start_time": "2025-01-25T20:29:08.540053Z"
    }
   },
   "cell_type": "code",
   "source": "df = pd.read_csv('adult.data.csv')",
   "id": "b269191b7c937f0f",
   "outputs": [],
   "execution_count": 2
  },
  {
   "metadata": {
    "ExecuteTime": {
     "end_time": "2025-01-23T01:00:45.519056Z",
     "start_time": "2025-01-23T01:00:45.490614Z"
    }
   },
   "cell_type": "code",
   "source": "print(df.info())",
   "id": "69730f747308aa6a",
   "outputs": [
    {
     "name": "stdout",
     "output_type": "stream",
     "text": [
      "<class 'pandas.core.frame.DataFrame'>\n",
      "RangeIndex: 32561 entries, 0 to 32560\n",
      "Data columns (total 15 columns):\n",
      " #   Column          Non-Null Count  Dtype \n",
      "---  ------          --------------  ----- \n",
      " 0   age             32561 non-null  int64 \n",
      " 1   workclass       32561 non-null  object\n",
      " 2   fnlwgt          32561 non-null  int64 \n",
      " 3   education       32561 non-null  object\n",
      " 4   education-num   32561 non-null  int64 \n",
      " 5   marital-status  32561 non-null  object\n",
      " 6   occupation      32561 non-null  object\n",
      " 7   relationship    32561 non-null  object\n",
      " 8   race            32561 non-null  object\n",
      " 9   sex             32561 non-null  object\n",
      " 10  capital-gain    32561 non-null  int64 \n",
      " 11  capital-loss    32561 non-null  int64 \n",
      " 12  hours-per-week  32561 non-null  int64 \n",
      " 13  native-country  32561 non-null  object\n",
      " 14  salary          32561 non-null  object\n",
      "dtypes: int64(6), object(9)\n",
      "memory usage: 3.7+ MB\n",
      "None\n"
     ]
    }
   ],
   "execution_count": 8
  },
  {
   "metadata": {
    "ExecuteTime": {
     "end_time": "2025-01-25T20:48:29.595982Z",
     "start_time": "2025-01-25T20:48:29.575848Z"
    }
   },
   "cell_type": "code",
   "source": "df.head(10)",
   "id": "87ecf604680b1944",
   "outputs": [
    {
     "data": {
      "text/plain": [
       "   age         workclass  fnlwgt  education  education-num  \\\n",
       "0   39         State-gov   77516  Bachelors             13   \n",
       "1   50  Self-emp-not-inc   83311  Bachelors             13   \n",
       "2   38           Private  215646    HS-grad              9   \n",
       "3   53           Private  234721       11th              7   \n",
       "4   28           Private  338409  Bachelors             13   \n",
       "5   37           Private  284582    Masters             14   \n",
       "6   49           Private  160187        9th              5   \n",
       "7   52  Self-emp-not-inc  209642    HS-grad              9   \n",
       "8   31           Private   45781    Masters             14   \n",
       "9   42           Private  159449  Bachelors             13   \n",
       "\n",
       "          marital-status         occupation   relationship   race     sex  \\\n",
       "0          Never-married       Adm-clerical  Not-in-family  White    Male   \n",
       "1     Married-civ-spouse    Exec-managerial        Husband  White    Male   \n",
       "2               Divorced  Handlers-cleaners  Not-in-family  White    Male   \n",
       "3     Married-civ-spouse  Handlers-cleaners        Husband  Black    Male   \n",
       "4     Married-civ-spouse     Prof-specialty           Wife  Black  Female   \n",
       "5     Married-civ-spouse    Exec-managerial           Wife  White  Female   \n",
       "6  Married-spouse-absent      Other-service  Not-in-family  Black  Female   \n",
       "7     Married-civ-spouse    Exec-managerial        Husband  White    Male   \n",
       "8          Never-married     Prof-specialty  Not-in-family  White  Female   \n",
       "9     Married-civ-spouse    Exec-managerial        Husband  White    Male   \n",
       "\n",
       "   capital-gain  capital-loss  hours-per-week native-country salary  \n",
       "0          2174             0              40  United-States  <=50K  \n",
       "1             0             0              13  United-States  <=50K  \n",
       "2             0             0              40  United-States  <=50K  \n",
       "3             0             0              40  United-States  <=50K  \n",
       "4             0             0              40           Cuba  <=50K  \n",
       "5             0             0              40  United-States  <=50K  \n",
       "6             0             0              16        Jamaica  <=50K  \n",
       "7             0             0              45  United-States   >50K  \n",
       "8         14084             0              50  United-States   >50K  \n",
       "9          5178             0              40  United-States   >50K  "
      ],
      "text/html": [
       "<div>\n",
       "<style scoped>\n",
       "    .dataframe tbody tr th:only-of-type {\n",
       "        vertical-align: middle;\n",
       "    }\n",
       "\n",
       "    .dataframe tbody tr th {\n",
       "        vertical-align: top;\n",
       "    }\n",
       "\n",
       "    .dataframe thead th {\n",
       "        text-align: right;\n",
       "    }\n",
       "</style>\n",
       "<table border=\"1\" class=\"dataframe\">\n",
       "  <thead>\n",
       "    <tr style=\"text-align: right;\">\n",
       "      <th></th>\n",
       "      <th>age</th>\n",
       "      <th>workclass</th>\n",
       "      <th>fnlwgt</th>\n",
       "      <th>education</th>\n",
       "      <th>education-num</th>\n",
       "      <th>marital-status</th>\n",
       "      <th>occupation</th>\n",
       "      <th>relationship</th>\n",
       "      <th>race</th>\n",
       "      <th>sex</th>\n",
       "      <th>capital-gain</th>\n",
       "      <th>capital-loss</th>\n",
       "      <th>hours-per-week</th>\n",
       "      <th>native-country</th>\n",
       "      <th>salary</th>\n",
       "    </tr>\n",
       "  </thead>\n",
       "  <tbody>\n",
       "    <tr>\n",
       "      <th>0</th>\n",
       "      <td>39</td>\n",
       "      <td>State-gov</td>\n",
       "      <td>77516</td>\n",
       "      <td>Bachelors</td>\n",
       "      <td>13</td>\n",
       "      <td>Never-married</td>\n",
       "      <td>Adm-clerical</td>\n",
       "      <td>Not-in-family</td>\n",
       "      <td>White</td>\n",
       "      <td>Male</td>\n",
       "      <td>2174</td>\n",
       "      <td>0</td>\n",
       "      <td>40</td>\n",
       "      <td>United-States</td>\n",
       "      <td>&lt;=50K</td>\n",
       "    </tr>\n",
       "    <tr>\n",
       "      <th>1</th>\n",
       "      <td>50</td>\n",
       "      <td>Self-emp-not-inc</td>\n",
       "      <td>83311</td>\n",
       "      <td>Bachelors</td>\n",
       "      <td>13</td>\n",
       "      <td>Married-civ-spouse</td>\n",
       "      <td>Exec-managerial</td>\n",
       "      <td>Husband</td>\n",
       "      <td>White</td>\n",
       "      <td>Male</td>\n",
       "      <td>0</td>\n",
       "      <td>0</td>\n",
       "      <td>13</td>\n",
       "      <td>United-States</td>\n",
       "      <td>&lt;=50K</td>\n",
       "    </tr>\n",
       "    <tr>\n",
       "      <th>2</th>\n",
       "      <td>38</td>\n",
       "      <td>Private</td>\n",
       "      <td>215646</td>\n",
       "      <td>HS-grad</td>\n",
       "      <td>9</td>\n",
       "      <td>Divorced</td>\n",
       "      <td>Handlers-cleaners</td>\n",
       "      <td>Not-in-family</td>\n",
       "      <td>White</td>\n",
       "      <td>Male</td>\n",
       "      <td>0</td>\n",
       "      <td>0</td>\n",
       "      <td>40</td>\n",
       "      <td>United-States</td>\n",
       "      <td>&lt;=50K</td>\n",
       "    </tr>\n",
       "    <tr>\n",
       "      <th>3</th>\n",
       "      <td>53</td>\n",
       "      <td>Private</td>\n",
       "      <td>234721</td>\n",
       "      <td>11th</td>\n",
       "      <td>7</td>\n",
       "      <td>Married-civ-spouse</td>\n",
       "      <td>Handlers-cleaners</td>\n",
       "      <td>Husband</td>\n",
       "      <td>Black</td>\n",
       "      <td>Male</td>\n",
       "      <td>0</td>\n",
       "      <td>0</td>\n",
       "      <td>40</td>\n",
       "      <td>United-States</td>\n",
       "      <td>&lt;=50K</td>\n",
       "    </tr>\n",
       "    <tr>\n",
       "      <th>4</th>\n",
       "      <td>28</td>\n",
       "      <td>Private</td>\n",
       "      <td>338409</td>\n",
       "      <td>Bachelors</td>\n",
       "      <td>13</td>\n",
       "      <td>Married-civ-spouse</td>\n",
       "      <td>Prof-specialty</td>\n",
       "      <td>Wife</td>\n",
       "      <td>Black</td>\n",
       "      <td>Female</td>\n",
       "      <td>0</td>\n",
       "      <td>0</td>\n",
       "      <td>40</td>\n",
       "      <td>Cuba</td>\n",
       "      <td>&lt;=50K</td>\n",
       "    </tr>\n",
       "    <tr>\n",
       "      <th>5</th>\n",
       "      <td>37</td>\n",
       "      <td>Private</td>\n",
       "      <td>284582</td>\n",
       "      <td>Masters</td>\n",
       "      <td>14</td>\n",
       "      <td>Married-civ-spouse</td>\n",
       "      <td>Exec-managerial</td>\n",
       "      <td>Wife</td>\n",
       "      <td>White</td>\n",
       "      <td>Female</td>\n",
       "      <td>0</td>\n",
       "      <td>0</td>\n",
       "      <td>40</td>\n",
       "      <td>United-States</td>\n",
       "      <td>&lt;=50K</td>\n",
       "    </tr>\n",
       "    <tr>\n",
       "      <th>6</th>\n",
       "      <td>49</td>\n",
       "      <td>Private</td>\n",
       "      <td>160187</td>\n",
       "      <td>9th</td>\n",
       "      <td>5</td>\n",
       "      <td>Married-spouse-absent</td>\n",
       "      <td>Other-service</td>\n",
       "      <td>Not-in-family</td>\n",
       "      <td>Black</td>\n",
       "      <td>Female</td>\n",
       "      <td>0</td>\n",
       "      <td>0</td>\n",
       "      <td>16</td>\n",
       "      <td>Jamaica</td>\n",
       "      <td>&lt;=50K</td>\n",
       "    </tr>\n",
       "    <tr>\n",
       "      <th>7</th>\n",
       "      <td>52</td>\n",
       "      <td>Self-emp-not-inc</td>\n",
       "      <td>209642</td>\n",
       "      <td>HS-grad</td>\n",
       "      <td>9</td>\n",
       "      <td>Married-civ-spouse</td>\n",
       "      <td>Exec-managerial</td>\n",
       "      <td>Husband</td>\n",
       "      <td>White</td>\n",
       "      <td>Male</td>\n",
       "      <td>0</td>\n",
       "      <td>0</td>\n",
       "      <td>45</td>\n",
       "      <td>United-States</td>\n",
       "      <td>&gt;50K</td>\n",
       "    </tr>\n",
       "    <tr>\n",
       "      <th>8</th>\n",
       "      <td>31</td>\n",
       "      <td>Private</td>\n",
       "      <td>45781</td>\n",
       "      <td>Masters</td>\n",
       "      <td>14</td>\n",
       "      <td>Never-married</td>\n",
       "      <td>Prof-specialty</td>\n",
       "      <td>Not-in-family</td>\n",
       "      <td>White</td>\n",
       "      <td>Female</td>\n",
       "      <td>14084</td>\n",
       "      <td>0</td>\n",
       "      <td>50</td>\n",
       "      <td>United-States</td>\n",
       "      <td>&gt;50K</td>\n",
       "    </tr>\n",
       "    <tr>\n",
       "      <th>9</th>\n",
       "      <td>42</td>\n",
       "      <td>Private</td>\n",
       "      <td>159449</td>\n",
       "      <td>Bachelors</td>\n",
       "      <td>13</td>\n",
       "      <td>Married-civ-spouse</td>\n",
       "      <td>Exec-managerial</td>\n",
       "      <td>Husband</td>\n",
       "      <td>White</td>\n",
       "      <td>Male</td>\n",
       "      <td>5178</td>\n",
       "      <td>0</td>\n",
       "      <td>40</td>\n",
       "      <td>United-States</td>\n",
       "      <td>&gt;50K</td>\n",
       "    </tr>\n",
       "  </tbody>\n",
       "</table>\n",
       "</div>"
      ]
     },
     "execution_count": 15,
     "metadata": {},
     "output_type": "execute_result"
    }
   ],
   "execution_count": 15
  },
  {
   "metadata": {},
   "cell_type": "markdown",
   "source": "If we consider bachelors and masters have appropriate education and only this(not doctor for ex.) ",
   "id": "ef34cd2677cdb65"
  },
  {
   "metadata": {
    "ExecuteTime": {
     "end_time": "2025-01-23T01:10:32.716890Z",
     "start_time": "2025-01-23T01:10:32.697210Z"
    }
   },
   "cell_type": "code",
   "source": [
    "bach_num = (df['education'] == 'Bachelors').sum()\n",
    "mas_num = (df['education'] == 'Masters').sum()\n",
    "print(f'Bachelors: {bach_num}')\n",
    "print(f'Masters: {mas_num}')"
   ],
   "id": "7d3a7c81d75a6456",
   "outputs": [
    {
     "name": "stdout",
     "output_type": "stream",
     "text": [
      "Bachelors: 5355\n",
      "Masters: 1723\n"
     ]
    }
   ],
   "execution_count": 16
  },
  {
   "metadata": {
    "ExecuteTime": {
     "end_time": "2025-01-23T01:22:34.295132Z",
     "start_time": "2025-01-23T01:22:34.274734Z"
    }
   },
   "cell_type": "code",
   "source": [
    "average_age_usa = df[df['native-country'] == 'United-States']['age'].mean()\n",
    "print(f'Average age of people living in USA: {average_age_usa}')"
   ],
   "id": "c867b983740f0e60",
   "outputs": [
    {
     "name": "stdout",
     "output_type": "stream",
     "text": [
      "Average age of people living in USA: 38.65567363729859\n"
     ]
    }
   ],
   "execution_count": 30
  },
  {
   "metadata": {
    "ExecuteTime": {
     "end_time": "2025-01-23T01:26:30.220459Z",
     "start_time": "2025-01-23T01:26:30.190777Z"
    }
   },
   "cell_type": "code",
   "source": [
    "cuba_part = (df['native-country'] == 'Cuba').sum()/len(df) * 100\n",
    "print(f'Cuba: {cuba_part} %')"
   ],
   "id": "446cda92287792b",
   "outputs": [
    {
     "name": "stdout",
     "output_type": "stream",
     "text": [
      "Cuba: 0.29176008107859097 %\n"
     ]
    }
   ],
   "execution_count": 35
  },
  {
   "metadata": {
    "ExecuteTime": {
     "end_time": "2025-01-25T20:41:37.097977Z",
     "start_time": "2025-01-25T20:41:37.061975Z"
    }
   },
   "cell_type": "code",
   "source": [
    "df_races = df[df['race'].isin(['White', 'Black'])] # rows only with Black/White races\n",
    "stats = df_races.groupby('race')['age'].agg(['mean', 'std'])\n",
    "print(stats)"
   ],
   "id": "277b64351bfe7693",
   "outputs": [
    {
     "name": "stdout",
     "output_type": "stream",
     "text": [
      "            mean        std\n",
      "race                       \n",
      "Black  37.767926  12.759290\n",
      "White  38.769881  13.782306\n"
     ]
    }
   ],
   "execution_count": 11
  },
  {
   "metadata": {
    "ExecuteTime": {
     "end_time": "2025-01-25T20:47:26.677584Z",
     "start_time": "2025-01-25T20:47:26.665379Z"
    }
   },
   "cell_type": "code",
   "source": "print((df[df['native-country'] == 'Jamaica']['hours-per-week'] >= 40).all())",
   "id": "d19fa00311a125ee",
   "outputs": [
    {
     "name": "stdout",
     "output_type": "stream",
     "text": [
      "False\n"
     ]
    }
   ],
   "execution_count": 13
  },
  {
   "metadata": {
    "ExecuteTime": {
     "end_time": "2025-01-25T20:48:11.328393Z",
     "start_time": "2025-01-25T20:48:11.308709Z"
    }
   },
   "cell_type": "code",
   "source": "print(df[df['native-country'] == 'Jamaica']['hours-per-week'] < 40) # all people from Jamaica, who work < 40",
   "id": "8d2d442df7c1ac03",
   "outputs": [
    {
     "name": "stdout",
     "output_type": "stream",
     "text": [
      "6         True\n",
      "706      False\n",
      "1135     False\n",
      "1570     False\n",
      "2006     False\n",
      "         ...  \n",
      "30863    False\n",
      "31033    False\n",
      "31038    False\n",
      "31954    False\n",
      "32229    False\n",
      "Name: hours-per-week, Length: 81, dtype: bool\n"
     ]
    }
   ],
   "execution_count": 14
  },
  {
   "metadata": {
    "ExecuteTime": {
     "end_time": "2025-01-25T21:06:42.059729Z",
     "start_time": "2025-01-25T21:06:42.009205Z"
    }
   },
   "cell_type": "code",
   "source": "df.groupby(['race', 'salary'])['hours-per-week'].describe()",
   "id": "fdf106df133e10ef",
   "outputs": [
    {
     "data": {
      "text/plain": [
       "                             count       mean        std   min   25%   50%  \\\n",
       "race               salary                                                    \n",
       "Amer-Indian-Eskimo <=50K     275.0  39.410909  11.782482   3.0  40.0  40.0   \n",
       "                   >50K       36.0  44.916667   9.854296  20.0  40.0  40.0   \n",
       "Asian-Pac-Islander <=50K     763.0  38.425950  12.614856   1.0  36.0  40.0   \n",
       "                   >50K      276.0  44.829710  11.134385   5.0  40.0  40.0   \n",
       "Black              <=50K    2737.0  37.580197   9.957707   1.0  35.0  40.0   \n",
       "                   >50K      387.0  44.382429  10.838834   2.0  40.0  40.0   \n",
       "Other              <=50K     246.0  38.914634  11.173805   5.0  35.0  40.0   \n",
       "                   >50K       25.0  44.920000   9.402659  30.0  40.0  40.0   \n",
       "White              <=50K   20699.0  39.013624  12.597917   1.0  35.0  40.0   \n",
       "                   >50K     7117.0  45.562035  11.026999   1.0  40.0  42.0   \n",
       "\n",
       "                            75%   max  \n",
       "race               salary              \n",
       "Amer-Indian-Eskimo <=50K   40.0  84.0  \n",
       "                   >50K    50.0  70.0  \n",
       "Asian-Pac-Islander <=50K   40.0  99.0  \n",
       "                   >50K    50.0  99.0  \n",
       "Black              <=50K   40.0  99.0  \n",
       "                   >50K    49.0  99.0  \n",
       "Other              <=50K   40.0  98.0  \n",
       "                   >50K    50.0  70.0  \n",
       "White              <=50K   40.0  99.0  \n",
       "                   >50K    50.0  99.0  "
      ],
      "text/html": [
       "<div>\n",
       "<style scoped>\n",
       "    .dataframe tbody tr th:only-of-type {\n",
       "        vertical-align: middle;\n",
       "    }\n",
       "\n",
       "    .dataframe tbody tr th {\n",
       "        vertical-align: top;\n",
       "    }\n",
       "\n",
       "    .dataframe thead th {\n",
       "        text-align: right;\n",
       "    }\n",
       "</style>\n",
       "<table border=\"1\" class=\"dataframe\">\n",
       "  <thead>\n",
       "    <tr style=\"text-align: right;\">\n",
       "      <th></th>\n",
       "      <th></th>\n",
       "      <th>count</th>\n",
       "      <th>mean</th>\n",
       "      <th>std</th>\n",
       "      <th>min</th>\n",
       "      <th>25%</th>\n",
       "      <th>50%</th>\n",
       "      <th>75%</th>\n",
       "      <th>max</th>\n",
       "    </tr>\n",
       "    <tr>\n",
       "      <th>race</th>\n",
       "      <th>salary</th>\n",
       "      <th></th>\n",
       "      <th></th>\n",
       "      <th></th>\n",
       "      <th></th>\n",
       "      <th></th>\n",
       "      <th></th>\n",
       "      <th></th>\n",
       "      <th></th>\n",
       "    </tr>\n",
       "  </thead>\n",
       "  <tbody>\n",
       "    <tr>\n",
       "      <th rowspan=\"2\" valign=\"top\">Amer-Indian-Eskimo</th>\n",
       "      <th>&lt;=50K</th>\n",
       "      <td>275.0</td>\n",
       "      <td>39.410909</td>\n",
       "      <td>11.782482</td>\n",
       "      <td>3.0</td>\n",
       "      <td>40.0</td>\n",
       "      <td>40.0</td>\n",
       "      <td>40.0</td>\n",
       "      <td>84.0</td>\n",
       "    </tr>\n",
       "    <tr>\n",
       "      <th>&gt;50K</th>\n",
       "      <td>36.0</td>\n",
       "      <td>44.916667</td>\n",
       "      <td>9.854296</td>\n",
       "      <td>20.0</td>\n",
       "      <td>40.0</td>\n",
       "      <td>40.0</td>\n",
       "      <td>50.0</td>\n",
       "      <td>70.0</td>\n",
       "    </tr>\n",
       "    <tr>\n",
       "      <th rowspan=\"2\" valign=\"top\">Asian-Pac-Islander</th>\n",
       "      <th>&lt;=50K</th>\n",
       "      <td>763.0</td>\n",
       "      <td>38.425950</td>\n",
       "      <td>12.614856</td>\n",
       "      <td>1.0</td>\n",
       "      <td>36.0</td>\n",
       "      <td>40.0</td>\n",
       "      <td>40.0</td>\n",
       "      <td>99.0</td>\n",
       "    </tr>\n",
       "    <tr>\n",
       "      <th>&gt;50K</th>\n",
       "      <td>276.0</td>\n",
       "      <td>44.829710</td>\n",
       "      <td>11.134385</td>\n",
       "      <td>5.0</td>\n",
       "      <td>40.0</td>\n",
       "      <td>40.0</td>\n",
       "      <td>50.0</td>\n",
       "      <td>99.0</td>\n",
       "    </tr>\n",
       "    <tr>\n",
       "      <th rowspan=\"2\" valign=\"top\">Black</th>\n",
       "      <th>&lt;=50K</th>\n",
       "      <td>2737.0</td>\n",
       "      <td>37.580197</td>\n",
       "      <td>9.957707</td>\n",
       "      <td>1.0</td>\n",
       "      <td>35.0</td>\n",
       "      <td>40.0</td>\n",
       "      <td>40.0</td>\n",
       "      <td>99.0</td>\n",
       "    </tr>\n",
       "    <tr>\n",
       "      <th>&gt;50K</th>\n",
       "      <td>387.0</td>\n",
       "      <td>44.382429</td>\n",
       "      <td>10.838834</td>\n",
       "      <td>2.0</td>\n",
       "      <td>40.0</td>\n",
       "      <td>40.0</td>\n",
       "      <td>49.0</td>\n",
       "      <td>99.0</td>\n",
       "    </tr>\n",
       "    <tr>\n",
       "      <th rowspan=\"2\" valign=\"top\">Other</th>\n",
       "      <th>&lt;=50K</th>\n",
       "      <td>246.0</td>\n",
       "      <td>38.914634</td>\n",
       "      <td>11.173805</td>\n",
       "      <td>5.0</td>\n",
       "      <td>35.0</td>\n",
       "      <td>40.0</td>\n",
       "      <td>40.0</td>\n",
       "      <td>98.0</td>\n",
       "    </tr>\n",
       "    <tr>\n",
       "      <th>&gt;50K</th>\n",
       "      <td>25.0</td>\n",
       "      <td>44.920000</td>\n",
       "      <td>9.402659</td>\n",
       "      <td>30.0</td>\n",
       "      <td>40.0</td>\n",
       "      <td>40.0</td>\n",
       "      <td>50.0</td>\n",
       "      <td>70.0</td>\n",
       "    </tr>\n",
       "    <tr>\n",
       "      <th rowspan=\"2\" valign=\"top\">White</th>\n",
       "      <th>&lt;=50K</th>\n",
       "      <td>20699.0</td>\n",
       "      <td>39.013624</td>\n",
       "      <td>12.597917</td>\n",
       "      <td>1.0</td>\n",
       "      <td>35.0</td>\n",
       "      <td>40.0</td>\n",
       "      <td>40.0</td>\n",
       "      <td>99.0</td>\n",
       "    </tr>\n",
       "    <tr>\n",
       "      <th>&gt;50K</th>\n",
       "      <td>7117.0</td>\n",
       "      <td>45.562035</td>\n",
       "      <td>11.026999</td>\n",
       "      <td>1.0</td>\n",
       "      <td>40.0</td>\n",
       "      <td>42.0</td>\n",
       "      <td>50.0</td>\n",
       "      <td>99.0</td>\n",
       "    </tr>\n",
       "  </tbody>\n",
       "</table>\n",
       "</div>"
      ]
     },
     "execution_count": 18,
     "metadata": {},
     "output_type": "execute_result"
    }
   ],
   "execution_count": 18
  },
  {
   "metadata": {},
   "cell_type": "markdown",
   "source": "So, analyzing data from table above, the answer is 5.0",
   "id": "cf1cad6203700426"
  },
  {
   "metadata": {
    "ExecuteTime": {
     "end_time": "2025-01-25T21:24:20.544241Z",
     "start_time": "2025-01-25T21:24:20.516890Z"
    }
   },
   "cell_type": "code",
   "source": [
    "higher_education = ['Bachelors', 'Prof-school', 'Assoc-acdm', 'Assoc-voc', 'Masters', 'Doctorate']\n",
    "\n",
    "higher_education_group = df[df['education'].isin(higher_education)] # higher education\n",
    "\n",
    "no_higher_education_group = df[~df['education'].isin(higher_education)] # all others\n",
    "\n",
    "higher_education_part = len(higher_education_group[higher_education_group['salary'] == '>50K'])/len(higher_education_group) * 100\n",
    "\n",
    "no_higher_education_part = len(no_higher_education_group[no_higher_education_group['salary'] == '>50K'])/len(no_higher_education_group) * 100\n",
    "\n",
    "print(f'Part of people with higher education and high salary: {higher_education_part}%')\n",
    "print(f'Part of people without higher education and high salary: {no_higher_education_part}%')"
   ],
   "id": "4c87213ee8f962f7",
   "outputs": [
    {
     "name": "stdout",
     "output_type": "stream",
     "text": [
      "Part of people with higher education and high salary: 43.12476226702168%\n",
      "Part of people without higher education and high salary: 14.996597867997277%\n"
     ]
    }
   ],
   "execution_count": 26
  },
  {
   "metadata": {
    "ExecuteTime": {
     "end_time": "2025-01-25T21:47:48.726921Z",
     "start_time": "2025-01-25T21:47:48.716617Z"
    }
   },
   "cell_type": "code",
   "source": [
    "min_age = df[df['age'] == df['age'].min()]\n",
    "print('Number of people with minimum age: ', len(min_age))\n",
    "print('Part of women with minimum age and high salary: ', len(min_age[(min_age['sex'] == 'Female') & (min_age['salary'] == '>50K')]) / len(min_age) * 100, '%')"
   ],
   "id": "146c7c18f2228fe2",
   "outputs": [
    {
     "name": "stdout",
     "output_type": "stream",
     "text": [
      "106      False\n",
      "209      False\n",
      "262      False\n",
      "271      False\n",
      "335      False\n",
      "         ...  \n",
      "31772    False\n",
      "31864    False\n",
      "31959    False\n",
      "32282    False\n",
      "32447    False\n",
      "Name: salary, Length: 395, dtype: bool\n",
      "Number of people with minimum age:  395\n",
      "Part of women with minimum age and high salary:  0.0 %\n"
     ]
    }
   ],
   "execution_count": 35
  },
  {
   "metadata": {},
   "cell_type": "markdown",
   "source": "",
   "id": "bbdbfea7d11a8462"
  },
  {
   "metadata": {},
   "cell_type": "code",
   "outputs": [],
   "execution_count": null,
   "source": "",
   "id": "46bd7768c16e94d1"
  }
 ],
 "metadata": {
  "kernelspec": {
   "display_name": "Python 3",
   "language": "python",
   "name": "python3"
  },
  "language_info": {
   "codemirror_mode": {
    "name": "ipython",
    "version": 2
   },
   "file_extension": ".py",
   "mimetype": "text/x-python",
   "name": "python",
   "nbconvert_exporter": "python",
   "pygments_lexer": "ipython2",
   "version": "2.7.6"
  }
 },
 "nbformat": 4,
 "nbformat_minor": 5
}
